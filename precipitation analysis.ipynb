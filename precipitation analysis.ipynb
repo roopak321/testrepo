{
    "cells": [
        {
            "cell_type": "markdown",
            "metadata": {},
            "source": "description of what the notebook does"
        },
        {
            "cell_type": "code",
            "execution_count": 3,
            "metadata": {},
            "outputs": [
                {
                    "name": "stdout",
                    "output_type": "stream",
                    "text": "+-------------------+----------------+------------------+------------------+-------------------+----------------------+---------------+---------------------+----------------------+------------+----------------------+----------------------+----------------------+--------------------------+--------------------------+--------------------------+\n|               DATE|HOURLYVISIBILITY|HOURLYDRYBULBTEMPF|HOURLYWETBULBTEMPF|HOURLYDewPointTempF|HOURLYRelativeHumidity|HOURLYWindSpeed|HOURLYStationPressure|HOURLYSeaLevelPressure|HOURLYPrecip|HOURLYAltimeterSetting|HOURLYWindDirectionSin|HOURLYWindDirectionCos|HOURLYPressureTendencyIncr|HOURLYPressureTendencyDecr|HOURLYPressureTendencyCons|\n+-------------------+----------------+------------------+------------------+-------------------+----------------------+---------------+---------------------+----------------------+------------+----------------------+----------------------+----------------------+--------------------------+--------------------------+--------------------------+\n|2010-01-01 01:00:00|             6.0|              33.0|              32.0|               31.0|                  92.0|            0.0|                29.97|                 29.99|        0.01|                 29.99|                   0.0|                   1.0|                         0|                         1|                         0|\n|2010-01-01 02:00:00|             6.0|              33.0|              33.0|               32.0|                  96.0|            0.0|                29.97|                 29.99|        0.02|                 29.99|                   0.0|                   1.0|                         0|                         1|                         0|\n|2010-01-01 03:00:00|             5.0|              33.0|              33.0|               32.0|                  96.0|            0.0|                29.97|                 29.99|         0.0|                 29.99|                   0.0|                   1.0|                         0|                         1|                         0|\n|2010-01-01 04:00:00|             5.0|              33.0|              33.0|               32.0|                  96.0|            0.0|                29.95|                 29.97|         0.0|                 29.97|                   0.0|                   1.0|                         0|                         1|                         0|\n|2010-01-01 05:00:00|             5.0|              33.0|              32.0|               31.0|                  92.0|            0.0|                29.93|                 29.96|         0.0|                 29.95|                   0.0|                   1.0|                         0|                         1|                         0|\n+-------------------+----------------+------------------+------------------+-------------------+----------------------+---------------+---------------------+----------------------+------------+----------------------+----------------------+----------------------+--------------------------+--------------------------+--------------------------+\nonly showing top 5 rows\n\n"
                },
                {
                    "data": {
                        "text/plain": "configurationName = os_700b0d0222b448cb9076dd812fdcc53a_configs\ncos = com.ibm.ibmos2spark.CloudObjectStorage@8edcf881\nspark = org.apache.spark.sql.SparkSession@3251137e\ndfData1 = [DATE: string, HOURLYVISIBILITY: double ... 14 more fields]\n"
                    },
                    "metadata": {},
                    "output_type": "display_data"
                },
                {
                    "data": {
                        "text/plain": "getCredentials: ()scala.collection.mutable.HashMap[String,String]\n"
                    },
                    "metadata": {},
                    "output_type": "display_data"
                },
                {
                    "data": {
                        "text/plain": "[DATE: string, HOURLYVISIBILITY: double ... 14 more fields]"
                    },
                    "execution_count": 3,
                    "metadata": {},
                    "output_type": "execute_result"
                }
            ],
            "source": "// The code was removed by Watson Studio for sharing."
        },
        {
            "cell_type": "code",
            "execution_count": null,
            "metadata": {},
            "outputs": [],
            "source": ""
        }
    ],
    "metadata": {
        "kernelspec": {
            "display_name": "Scala 2.12 with Spark",
            "language": "scala",
            "name": "scala"
        },
        "language_info": {
            "codemirror_mode": "text/x-scala",
            "file_extension": ".scala",
            "mimetype": "text/x-scala",
            "name": "scala",
            "pygments_lexer": "scala",
            "version": "2.12.15"
        }
    },
    "nbformat": 4,
    "nbformat_minor": 1
}